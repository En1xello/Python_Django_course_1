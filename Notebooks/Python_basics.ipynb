{
 "cells": [
  {
   "cell_type": "markdown",
   "metadata": {},
   "source": [
    "# Форматирование строк"
   ]
  },
  {
   "cell_type": "markdown",
   "metadata": {},
   "source": [
    "Вырианты форматирования строк:\n",
    " Переменные x = 1, y = 2\n",
    "1. строка = ('{} текст {}'.format(x,y))\n",
    "2. строка с позиционирование переменных = ('{0} текст {1}'.format(x,y))\n",
    "3. Сокращенный и удобный: \n",
    "  строка = (f'{x} текст {y}')\n",
    "  "
   ]
  },
  {
   "cell_type": "code",
   "execution_count": 5,
   "metadata": {},
   "outputs": [
    {
     "name": "stdout",
     "output_type": "stream",
     "text": [
      "Weaher: temperature +10 and it's cold\n",
      "Weather: temperature +10 and it's cold\n",
      "Weather: temperature +10 and it's cold\n"
     ]
    }
   ],
   "source": [
    "x = '10'\n",
    "y ='cold'\n",
    "print('Weaher: temperature +{} and it\\'s {}'.format(x,y))\n",
    "print('Weather: temperature +{0} and it\\'s {1}'.format(x, y))\n",
    "print(f'Weather: temperature +{x} and it\\'s {y}')"
   ]
  },
  {
   "cell_type": "markdown",
   "metadata": {},
   "source": [
    "# Типы данных python"
   ]
  },
  {
   "cell_type": "markdown",
   "metadata": {},
   "source": [
    "1. Целые числа int: 1, 2, 3, 4, 5\n",
    "2. Строки str\n",
    "Последовательность симаолов: 'Hello world', ' ', 'Pi_3.14'\n",
    "3. Числа с плавающей точкой float: 1.1, 1.7, 2.15, 3.14\n",
    "4. Списки list\n",
    "Последовательность Объектов:\n",
    "[1, 3.14, 'Hello world']\n",
    "5. Кортежи tuple\n",
    "Последовательность неизменяемых объектов:\n",
    "(1, 3.14, 'Hello world')\n",
    "6. Множества set\n",
    "Последовательность уникальных объетков:\n",
    "{'a', 'b'}\n",
    "7. Булевые значения bool\n",
    "Логические значения:\n",
    "True/False\n",
    "8. Словари dict\n",
    "Список пар \"ключ-значения\":\n",
    "{'alex' : '123', 'vlad' : '456'}"
   ]
  },
  {
   "cell_type": "markdown",
   "metadata": {},
   "source": [
    "# Переменные и математика"
   ]
  },
  {
   "cell_type": "markdown",
   "metadata": {},
   "source": [
    "1. = знак присваивания \n",
    "2. == знак сравнения\n",
    "3. None - пустое значение переменной\n",
    "4. результат деления всегда тип float (1/1 = 1.0)\n",
    "5. Результат операции +*/ с float всегда тип float (5 * 2.0 = 10.0)\n",
    "6. функция round(float, 2) округляет значение, где float число, а '2' до какого знака округлить"
   ]
  },
  {
   "cell_type": "markdown",
   "metadata": {},
   "source": [
    "# Операторы сравнения и Boolean Python"
   ]
  },
  {
   "cell_type": "markdown",
   "metadata": {},
   "source": [
    "1. True = истина(1), False = ложно(0)\n",
    "2. .> < >= <= Больше, меньше, больше или равно, меньше или равно\n",
    "3. != Не равно\n",
    "4. == сравнение равенства\n",
    "5. При сравнении строк важен регистр ('text' == 'TEXT')#False\n",
    "6. Условия могут быть цепочками(1<2<3<4)#True\n",
    "7. Оператору and важно чтбы все условия были True\n",
    "8. Оператору or важно чтобы хотя бы один был true\n"
   ]
  },
  {
   "cell_type": "code",
   "execution_count": 23,
   "metadata": {},
   "outputs": [
    {
     "name": "stdout",
     "output_type": "stream",
     "text": [
      "1\n",
      "0\n",
      "False\n",
      "True\n",
      "True\n",
      "False\n",
      "True\n",
      "False\n"
     ]
    }
   ],
   "source": [
    "x = int(True)\n",
    "print(x)\n",
    "\n",
    "y = int(False)\n",
    "print(y)\n",
    "\n",
    "a = []\n",
    "b = [1, 2, 3]\n",
    "x = bool(a)\n",
    "print(x)\n",
    "\n",
    "y = bool(b)\n",
    "print(y)\n",
    "\n",
    "print(3>=2)\n",
    "print(1>2)\n",
    "\n",
    "print('text' == 'text')\n",
    "print('text' == 'text 2')\n"
   ]
  },
  {
   "cell_type": "markdown",
   "metadata": {},
   "source": [
    "# Строки, тип данных str"
   ]
  },
  {
   "cell_type": "markdown",
   "metadata": {},
   "source": [
    "# "
   ]
  },
  {
   "cell_type": "markdown",
   "metadata": {},
   "source": [
    "1. Экранирующие последовательности: \\ перед КОВЫЧКАМИ, \\ перед \\\n",
    "2. Спец символ r для пути 'C:\\Users\\..\\..\\Py_lesson'\n",
    "3. Спецсимвол \\n для переноса строки: 'some text \\nand new string'\n",
    "4. Индекс начинает свой отсчет от 0\n",
    "5. Обращение к элементу по индексу: text[0] где 0 -индекс элемента\n",
    "6. Срез это выборка элементов из последовательности, c_ и по_индекс\n",
    "7. Конструкция среза:   \n",
    "    - от индекса 8 до конца: text[8:]  \n",
    "    - от начала до индекса 8: text[:8]\n",
    "    - от индекса 6 до конца индекса 8: text[6:8]      \n",
    "    - с шагом в 1: text[::1]"
   ]
  },
  {
   "cell_type": "code",
   "execution_count": 8,
   "metadata": {},
   "outputs": [
    {
     "name": "stdout",
     "output_type": "stream",
     "text": [
      "Some 'long', and 'awesome' text\n",
      "C:\\Users\\..\\..\\Py_lesson\n",
      "C:\\Users\\..\\..\\Py_lesson\n",
      "some long text \n",
      "and new string \n",
      "and new string\n",
      "hello world\n",
      "h\n",
      "he\n",
      "de\n",
      "worlde\n",
      "world hello \n",
      "wo\n",
      "hello world\n",
      "hlowrd\n"
     ]
    }
   ],
   "source": [
    "x = 'Some \\'long\\', and \\'awesome\\' text'\n",
    "print(x)\n",
    "\n",
    "y = 'C:\\\\Users\\\\..\\\\..\\\\Py_lesson'\n",
    "z = r'C:\\Users\\..\\..\\Py_lesson'\n",
    "print(y)\n",
    "print(z)\n",
    "\n",
    "x = 'some long text \\nand new string \\nand new string'\n",
    "print(x)\n",
    "\n",
    "text = str('hello world')\n",
    "print(text)\n",
    "print(text[0])\n",
    "print(text[0]+text[1])\n",
    "print(text[-1]+text[1])\n",
    "print(text[6:]+text[1])\n",
    "print(text[6:]+' '+text[:6])\n",
    "print(text[6:8])\n",
    "print(text[::1])\n",
    "print(text[::2])"
   ]
  },
  {
   "cell_type": "markdown",
   "metadata": {},
   "source": [
    "# Функции строк"
   ]
  },
  {
   "cell_type": "markdown",
   "metadata": {},
   "source": [
    "1. Функция len() выдает количество элементов в последовательности\n",
    "2. С помощью len() можно делать обращение по индексу и срезы, так как результат len тип int\n",
    "3. Функция count() выдает количество заданных символов в строке\n",
    "4. Функция find() выдает индекс первого найденного элемента, или фразы в строке: x.find('o')\n",
    "5. find() принимает диапазон поиска в качестве доп параметра: x.find('o', 3, 7)\n",
    "6. Функция capitalize() преобразует строку так, что первый символ становится в верхний регистр, а\n",
    "все остальные в нижний принудительно\n",
    "7. upper() преобразует все символы в строке в верхний регистр\n",
    "8. lower() преобразует все символы в строке в нижний регистр\n",
    "9. isupper() islower() функции проверок, на верхний и нижний регистр соответственно\n",
    "10. isalnum() проверочная функция, состоит ли строка только из цифр и букв\n",
    "11. isalpha() проверочная функция, остоит ли строка только из букв\n",
    "12. startswith() проверка начинается ли строка с определеннных символов\n",
    "13. endswith() проверка заканчивается ли строка с определнных символов\n",
    "14. split() функция сепаратор, разделяет строку по заданному символу\n"
   ]
  },
  {
   "cell_type": "code",
   "execution_count": 22,
   "metadata": {},
   "outputs": [
    {
     "name": "stdout",
     "output_type": "stream",
     "text": [
      "26\n",
      "T\n",
      "TEXT\n",
      "3\n",
      "10\n",
      "1\n",
      "6\n",
      "18\n",
      "10\n",
      "22\n",
      "-1\n",
      "Some long and awesome text\n",
      "SOME LONG AND AWESOME TEXT\n",
      "some long and awesome text\n",
      "Old text: some long and awesome TEXT\n",
      "True\n",
      "True\n",
      "False\n",
      "False\n",
      "True\n",
      "False\n",
      "False\n",
      "True\n",
      "True\n",
      "True\n",
      "<class 'list'>\n",
      "['he', '', 'o']\n",
      "['4', '8', '15', '16', '23', '42']\n",
      "16\n"
     ]
    }
   ],
   "source": [
    "x = 'some long and awesome TEXT'\n",
    "print(len(x))\n",
    "print(x[len(x)-1])\n",
    "print(x[len(x)-4:len(x)])\n",
    "\n",
    "print(x.count('o'))\n",
    "\n",
    "print(x.find('a'))\n",
    "print(x.find('o'))\n",
    "print(x.find('o', 3, 7))\n",
    "print(x.find('o', 7))\n",
    "print(x.find('and'))\n",
    "print(x.find('TEXT'))\n",
    "print(x.find('abc'))\n",
    "\n",
    "print(x.capitalize())\n",
    "print(x.upper())\n",
    "print(x.lower())\n",
    "print('Old text: '+x)\n",
    "upper_cased = x.upper()\n",
    "lower_cased = x.lower()\n",
    "print(upper_cased.isupper())\n",
    "print(lower_cased.islower())\n",
    "print(x.isupper())\n",
    "print(x.islower())\n",
    "\n",
    "print('xxx777'.isalnum())\n",
    "print('xxx777!'.isalnum())\n",
    "print('xxx777'.isalpha())\n",
    "print('xxx'.isalpha())\n",
    "\n",
    "x = str('hello')\n",
    "print(x.startswith('he'))\n",
    "print(x.endswith('lo'))\n",
    "split = x.split('l')\n",
    "print(type(split))\n",
    "print(split)\n",
    "some_data = '4;8;15;16;23;42'\n",
    "separated_data = some_data.split(';')\n",
    "print(separated_data)\n",
    "print(separated_data[3])\n",
    "\n"
   ]
  },
  {
   "cell_type": "markdown",
   "metadata": {},
   "source": [
    "# Списки. Тип list"
   ]
  },
  {
   "cell_type": "markdown",
   "metadata": {},
   "source": [
    "1. Сиинтаксис типа list: spisok = [element, element, ...]\n",
    "2. list поддерживает обращение по индексу, пример: spisok[0]\n",
    "3. list поддерживает срезы, пример: spisok[0:5]\n",
    "4. Функция append добавляет элемент к списку, в конец\n",
    "5. Функция insert вставляет элемнт в список, по индексу который передается вторым параметром, пример: spisok.insert[7, element]\n",
    "6. Функция index возвращает индекс заданного элемента в списке\n",
    "7. Функция pop удаляет последний в списке, а при использовании индекса удаляет элемент по индексу\n",
    "8. Функция clear удаляет все элементы списка, возвращая пустой список\n",
    "9. Функция sort сортирует список, поддерживает сортировку пл  ключу\n",
    "10. Функция revers \"переворачивает\" список, от последнего к первому"
   ]
  },
  {
   "cell_type": "code",
   "execution_count": 2,
   "metadata": {},
   "outputs": [
    {
     "name": "stdout",
     "output_type": "stream",
     "text": [
      "4\n",
      "1\n",
      "4\n",
      "[3, 4]\n",
      "['anna', 'alex', 'max', 'john', 'nicolas', 'vlad']\n",
      "['artur', 'alex', 'max']\n",
      "['artur', 'alex', 'max', 'anna']\n",
      "['artur', 'john', 'alex', 'max', 'anna']\n",
      "3\n",
      "anna\n",
      "['artur', 'john', 'alex', 'max']\n",
      "['john', 'alex', 'max']\n",
      "[]\n",
      "['33', '22', '11', '44']\n",
      "['11', '22', '33', '44']\n",
      "['44', '33', '22', '11']\n",
      "['abcde', 'bcd', 'da', 'cde', 'ser', 'q']\n",
      "['abcde', 'bcd', 'cde', 'da', 'q', 'ser']\n",
      "['q', 'da', 'bcd', 'cde', 'ser', 'abcde']\n",
      "['abcde', 'ser', 'cde', 'bcd', 'da', 'q']\n"
     ]
    }
   ],
   "source": [
    "new_list = [1,2,3,4]\n",
    "mix_list = [12, 3.14, 'text']\n",
    "print(len(new_list))\n",
    "print(new_list[0])\n",
    "print(new_list[-1])\n",
    "print(new_list[2:])\n",
    "\n",
    "list_1 = ['anna', 'alex', 'max']\n",
    "list_2 = ['john', 'nicolas', 'vlad']\n",
    "print(list_1 + list_2)\n",
    "list_1[0] = 'artur'\n",
    "print(list_1)\n",
    "list_1.append('anna')\n",
    "print(list_1)\n",
    "list_1.insert(1, 'john')\n",
    "print(list_1)\n",
    "print(list_1.index('max'))\n",
    "list_1.index('max', 0, 10)\n",
    "pop_del = list_1.pop()\n",
    "print(pop_del)\n",
    "print(list_1)\n",
    "list_1.pop(0)\n",
    "print(list_1)\n",
    "list_1.clear()\n",
    "print(list_1)\n",
    "\n",
    "list_3 = ['33', '22', '11', '44']\n",
    "print(list_3)\n",
    "list_3.sort()\n",
    "print(list_3)\n",
    "list_3.sort(reverse=True)\n",
    "print(list_3)\n",
    "\n",
    "list_4 = ['abcde', 'bcd', 'da', 'cde', 'ser', 'q']\n",
    "print(list_4)\n",
    "list_4.sort()\n",
    "print(list_4)\n",
    "list_4.sort(key=len)\n",
    "print(list_4)\n",
    "list_4.reverse()\n",
    "print(list_4)"
   ]
  }
 ],
 "metadata": {
  "kernelspec": {
   "display_name": "Python 3.9.12 ('venv': venv)",
   "language": "python",
   "name": "python3"
  },
  "language_info": {
   "codemirror_mode": {
    "name": "ipython",
    "version": 3
   },
   "file_extension": ".py",
   "mimetype": "text/x-python",
   "name": "python",
   "nbconvert_exporter": "python",
   "pygments_lexer": "ipython3",
   "version": "3.9.12"
  },
  "orig_nbformat": 4,
  "vscode": {
   "interpreter": {
    "hash": "675c24bced937e471462044ca6811a9a3e01e0e8cf91b47ac4d51ac759c5e822"
   }
  }
 },
 "nbformat": 4,
 "nbformat_minor": 2
}
