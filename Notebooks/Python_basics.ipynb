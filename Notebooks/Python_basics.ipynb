{
 "cells": [
  {
   "cell_type": "markdown",
   "metadata": {},
   "source": [
    "# Форматирование строк"
   ]
  },
  {
   "cell_type": "markdown",
   "metadata": {},
   "source": [
    "Вырианты форматирования строк:\n",
    " Переменные x = 1, y = 2\n",
    "1. строка = ('{} текст {}'.format(x,y))\n",
    "2. строка с позиционирование переменных = ('{0} текст {1}'.format(x,y))\n",
    "3. Сокращенный и удобный: \n",
    "  строка = (f'{x} текст {y}')\n",
    "  "
   ]
  },
  {
   "cell_type": "code",
   "execution_count": 5,
   "metadata": {},
   "outputs": [
    {
     "name": "stdout",
     "output_type": "stream",
     "text": [
      "Weaher: temperature +10 and it's cold\n",
      "Weather: temperature +10 and it's cold\n",
      "Weather: temperature +10 and it's cold\n"
     ]
    }
   ],
   "source": [
    "x = '10'\n",
    "y ='cold'\n",
    "print('Weaher: temperature +{} and it\\'s {}'.format(x,y))\n",
    "print('Weather: temperature +{0} and it\\'s {1}'.format(x, y))\n",
    "print(f'Weather: temperature +{x} and it\\'s {y}')"
   ]
  },
  {
   "cell_type": "markdown",
   "metadata": {},
   "source": [
    "# Типы данных python"
   ]
  },
  {
   "cell_type": "markdown",
   "metadata": {},
   "source": [
    "1. Целые числа int: 1, 2, 3, 4, 5\n",
    "2. Строки str\n",
    "Последовательность симаолов: 'Hello world', ' ', 'Pi_3.14'\n",
    "3. Числа с плавающей точкой float: 1.1, 1.7, 2.15, 3.14\n",
    "4. Списки list\n",
    "Последовательность Объектов:\n",
    "[1, 3.14, 'Hello world']\n",
    "5. Кортежи tuple\n",
    "Последовательность неизменяемых объектов:\n",
    "(1, 3.14, 'Hello world')\n",
    "6. Множества set\n",
    "Последовательность уникальных объетков:\n",
    "{'a', 'b'}\n",
    "7. Булевые значения bool\n",
    "Логические значения:\n",
    "True/False\n",
    "8. Словари dict\n",
    "Список пар \"ключ-значения\":\n",
    "{'alex' : '123', 'vlad' : '456'}"
   ]
  },
  {
   "cell_type": "markdown",
   "metadata": {},
   "source": []
  }
 ],
 "metadata": {
  "kernelspec": {
   "display_name": "Python 3.9.12 ('venv': venv)",
   "language": "python",
   "name": "python3"
  },
  "language_info": {
   "codemirror_mode": {
    "name": "ipython",
    "version": 3
   },
   "file_extension": ".py",
   "mimetype": "text/x-python",
   "name": "python",
   "nbconvert_exporter": "python",
   "pygments_lexer": "ipython3",
   "version": "3.9.12"
  },
  "orig_nbformat": 4,
  "vscode": {
   "interpreter": {
    "hash": "675c24bced937e471462044ca6811a9a3e01e0e8cf91b47ac4d51ac759c5e822"
   }
  }
 },
 "nbformat": 4,
 "nbformat_minor": 2
}
