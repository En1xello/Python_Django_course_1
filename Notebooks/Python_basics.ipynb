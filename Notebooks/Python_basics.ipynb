{
 "cells": [
  {
   "cell_type": "markdown",
   "metadata": {},
   "source": [
    "# Форматирование строк"
   ]
  },
  {
   "cell_type": "markdown",
   "metadata": {},
   "source": [
    "Вырианты форматирования строк:\n",
    " Переменные x = 1, y = 2\n",
    "1. строка = ('{} текст {}'.format(x,y))\n",
    "2. строка с позиционирование переменных = ('{0} текст {1}'.format(x,y))\n",
    "3. Сокращенный и удобный: \n",
    "  строка = (f'{x} текст {y}')\n",
    "  "
   ]
  },
  {
   "cell_type": "code",
   "execution_count": 5,
   "metadata": {},
   "outputs": [
    {
     "name": "stdout",
     "output_type": "stream",
     "text": [
      "Weaher: temperature +10 and it's cold\n",
      "Weather: temperature +10 and it's cold\n",
      "Weather: temperature +10 and it's cold\n"
     ]
    }
   ],
   "source": [
    "x = '10'\n",
    "y ='cold'\n",
    "print('Weaher: temperature +{} and it\\'s {}'.format(x,y))\n",
    "print('Weather: temperature +{0} and it\\'s {1}'.format(x, y))\n",
    "print(f'Weather: temperature +{x} and it\\'s {y}')"
   ]
  },
  {
   "cell_type": "markdown",
   "metadata": {},
   "source": [
    "# Типы данных python"
   ]
  },
  {
   "cell_type": "markdown",
   "metadata": {},
   "source": [
    "1. Целые числа int: 1, 2, 3, 4, 5\n",
    "2. Строки str\n",
    "Последовательность симаолов: 'Hello world', ' ', 'Pi_3.14'\n",
    "3. Числа с плавающей точкой float: 1.1, 1.7, 2.15, 3.14\n",
    "4. Списки list\n",
    "Последовательность Объектов:\n",
    "[1, 3.14, 'Hello world']\n",
    "5. Кортежи tuple\n",
    "Последовательность неизменяемых объектов:\n",
    "(1, 3.14, 'Hello world')\n",
    "6. Множества set\n",
    "Последовательность уникальных объетков:\n",
    "{'a', 'b'}\n",
    "7. Булевые значения bool\n",
    "Логические значения:\n",
    "True/False\n",
    "8. Словари dict\n",
    "Список пар \"ключ-значения\":\n",
    "{'alex' : '123', 'vlad' : '456'}"
   ]
  },
  {
   "cell_type": "markdown",
   "metadata": {},
   "source": [
    "# Переменные и математика"
   ]
  },
  {
   "cell_type": "markdown",
   "metadata": {},
   "source": [
    "1. = знак присваивания \n",
    "2. == знак сравнения\n",
    "3. None - пустое значение переменной\n",
    "4. результат деления всегда тип float (1/1 = 1.0)\n",
    "5. Результат операции +*/ с float всегда тип float (5 * 2.0 = 10.0)\n",
    "6. функция round(float, 2) округляет значение, где float число, а '2' до какого знака округлить"
   ]
  },
  {
   "cell_type": "markdown",
   "metadata": {},
   "source": [
    "# Операторы сравнения и Boolean Python"
   ]
  },
  {
   "cell_type": "markdown",
   "metadata": {},
   "source": [
    "1. True = истина(1), False = ложно(0)\n",
    "2. .> < >= <= Больше, меньше, больше или равно, меньше или равно\n",
    "3. != Не равно\n",
    "4. == сравнение равенства\n",
    "5. При сравнении строк важен регистр ('text' == 'TEXT')#False\n",
    "6. Условия могут быть цепочками(1<2<3<4)#True\n",
    "7. Оператору and важно чтбы все условия были True\n",
    "8. Оператору or важно чтобы хотя бы один был true\n"
   ]
  },
  {
   "cell_type": "code",
   "execution_count": 4,
   "metadata": {},
   "outputs": [
    {
     "name": "stdout",
     "output_type": "stream",
     "text": [
      "1\n",
      "0\n",
      "False\n",
      "True\n",
      "True\n",
      "False\n"
     ]
    }
   ],
   "source": [
    "x = int(True)\n",
    "print(x)\n",
    "\n",
    "y = int(False)\n",
    "print(y)\n",
    "\n",
    "a = []\n",
    "b = [1, 2, 3]\n",
    "x = bool(a)\n",
    "print(x)\n",
    "\n",
    "y = bool(b)\n",
    "print(y)\n",
    "\n",
    "print(3>=2)\n",
    "print(1>2)\n",
    "\n",
    "print('text' == 'text')\n",
    "print('text' == 'text 2')\n"
   ]
  },
  {
   "cell_type": "markdown",
   "metadata": {},
   "source": [
    "# Строки, тип данных str"
   ]
  },
  {
   "cell_type": "markdown",
   "metadata": {},
   "source": [
    "# "
   ]
  },
  {
   "cell_type": "markdown",
   "metadata": {},
   "source": [
    "1. Экранирующие последовательности: \\ перед КОВЫЧКАМИ, \\ перед \\\n",
    "2. Спец символ r для пути 'C:\\Users\\..\\..\\Py_lesson'\n",
    "3. Спецсимвол \\n для переноса строки: 'some text \\nand new string'\n",
    "4. Индекс начинает свой отсчет от 0\n",
    "5. Обращение к элементу по индексу: text[0] где 0 -индекс элемента\n",
    "6. Срез это выборка элементов из последовательности, c_ и по_индекс\n",
    "7. Конструкция среза:   \n",
    "    - от индекса 8 до конца: text[8:]  \n",
    "    - от начала до индекса 8: text[:8]\n",
    "    - от индекса 6 до конца индекса 8: text[6:8]      \n",
    "    - с шагом в 1: text[::1]"
   ]
  },
  {
   "cell_type": "code",
   "execution_count": 8,
   "metadata": {},
   "outputs": [
    {
     "name": "stdout",
     "output_type": "stream",
     "text": [
      "Some 'long', and 'awesome' text\n",
      "C:\\Users\\..\\..\\Py_lesson\n",
      "C:\\Users\\..\\..\\Py_lesson\n",
      "some long text \n",
      "and new string \n",
      "and new string\n",
      "hello world\n",
      "h\n",
      "he\n",
      "de\n",
      "worlde\n",
      "world hello \n",
      "wo\n",
      "hello world\n",
      "hlowrd\n"
     ]
    }
   ],
   "source": [
    "x = 'Some \\'long\\', and \\'awesome\\' text'\n",
    "print(x)\n",
    "\n",
    "y = 'C:\\\\Users\\\\..\\\\..\\\\Py_lesson'\n",
    "z = r'C:\\Users\\..\\..\\Py_lesson'\n",
    "print(y)\n",
    "print(z)\n",
    "\n",
    "x = 'some long text \\nand new string \\nand new string'\n",
    "print(x)\n",
    "\n",
    "text = str('hello world')\n",
    "print(text)\n",
    "print(text[0])\n",
    "print(text[0]+text[1])\n",
    "print(text[-1]+text[1])\n",
    "print(text[6:]+text[1])\n",
    "print(text[6:]+' '+text[:6])\n",
    "print(text[6:8])\n",
    "print(text[::1])\n",
    "print(text[::2])"
   ]
  }
 ],
 "metadata": {
  "kernelspec": {
   "display_name": "Python 3.9.12 ('venv': venv)",
   "language": "python",
   "name": "python3"
  },
  "language_info": {
   "codemirror_mode": {
    "name": "ipython",
    "version": 3
   },
   "file_extension": ".py",
   "mimetype": "text/x-python",
   "name": "python",
   "nbconvert_exporter": "python",
   "pygments_lexer": "ipython3",
   "version": "3.9.12"
  },
  "orig_nbformat": 4,
  "vscode": {
   "interpreter": {
    "hash": "675c24bced937e471462044ca6811a9a3e01e0e8cf91b47ac4d51ac759c5e822"
   }
  }
 },
 "nbformat": 4,
 "nbformat_minor": 2
}
