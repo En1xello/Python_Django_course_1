{
 "cells": [
  {
   "cell_type": "markdown",
   "metadata": {},
   "source": [
    "## ОСНОВЫ PYTHON\n"
   ]
  },
  {
   "cell_type": "markdown",
   "metadata": {},
   "source": [
    "# Форматирование строк"
   ]
  },
  {
   "cell_type": "markdown",
   "metadata": {},
   "source": [
    "Вырианты форматирования строк:\n",
    " Переменные x = 1, y = 2\n",
    "1. строка = ('{} текст {}'.format(x,y))\n",
    "2. строка с позиционирование переменных = ('{0} текст {1}'.format(x,y))\n",
    "3. Сокращенный и удобный: \n",
    "  строка = (f'{x} текст {y}')\n",
    "  "
   ]
  },
  {
   "cell_type": "code",
   "execution_count": 5,
   "metadata": {},
   "outputs": [
    {
     "name": "stdout",
     "output_type": "stream",
     "text": [
      "Weaher: temperature +10 and it's cold\n",
      "Weather: temperature +10 and it's cold\n",
      "Weather: temperature +10 and it's cold\n"
     ]
    }
   ],
   "source": [
    "x = '10'\n",
    "y ='cold'\n",
    "print('Weaher: temperature +{} and it\\'s {}'.format(x,y))\n",
    "print('Weather: temperature +{0} and it\\'s {1}'.format(x, y))\n",
    "print(f'Weather: temperature +{x} and it\\'s {y}')"
   ]
  },
  {
   "cell_type": "markdown",
   "metadata": {},
   "source": [
    "# Типы данных python"
   ]
  },
  {
   "cell_type": "markdown",
   "metadata": {},
   "source": [
    "1. Целые числа int: 1, 2, 3, 4, 5\n",
    "2. Строки str\n",
    "Последовательность симаолов: 'Hello world', ' ', 'Pi_3.14'\n",
    "3. Числа с плавающей точкой float: 1.1, 1.7, 2.15, 3.14\n",
    "4. Списки list\n",
    "Последовательность Объектов:\n",
    "[1, 3.14, 'Hello world']\n",
    "5. Кортежи tuple\n",
    "Последовательность неизменяемых объектов:\n",
    "(1, 3.14, 'Hello world')\n",
    "6. Множества set\n",
    "Последовательность уникальных объетков:\n",
    "{'a', 'b'}\n",
    "7. Булевые значения bool\n",
    "Логические значения:\n",
    "True/False\n",
    "8. Словари dict\n",
    "Список пар \"ключ-значения\":\n",
    "{'alex' : '123', 'vlad' : '456'}"
   ]
  },
  {
   "cell_type": "markdown",
   "metadata": {},
   "source": [
    "# Переменные и математика"
   ]
  },
  {
   "cell_type": "markdown",
   "metadata": {},
   "source": [
    "1. = знак присваивания \n",
    "2. == знак сравнения\n",
    "3. None - пустое значение переменной\n",
    "4. результат деления всегда тип float (1/1 = 1.0)\n",
    "5. Результат операции +*/ с float всегда тип float (5 * 2.0 = 10.0)\n",
    "6. функция round(float, 2) округляет значение, где float число, а '2' до какого знака округлить"
   ]
  },
  {
   "cell_type": "markdown",
   "metadata": {},
   "source": [
    "# Операторы сравнения и Boolean Python"
   ]
  },
  {
   "cell_type": "markdown",
   "metadata": {},
   "source": [
    "1. True = истина(1), False = ложно(0)\n",
    "2. .> < >= <= Больше, меньше, больше или равно, меньше или равно\n",
    "3. != Не равно\n",
    "4. == сравнение равенства\n",
    "5. При сравнении строк важен регистр ('text' == 'TEXT')#False\n",
    "6. Условия могут быть цепочками(1<2<3<4)#True\n",
    "7. Оператору and важно чтбы все условия были True\n",
    "8. Оператору or важно чтобы хотя бы один был true\n"
   ]
  },
  {
   "cell_type": "code",
   "execution_count": 23,
   "metadata": {},
   "outputs": [
    {
     "name": "stdout",
     "output_type": "stream",
     "text": [
      "1\n",
      "0\n",
      "False\n",
      "True\n",
      "True\n",
      "False\n",
      "True\n",
      "False\n"
     ]
    }
   ],
   "source": [
    "x = int(True)\n",
    "print(x)\n",
    "\n",
    "y = int(False)\n",
    "print(y)\n",
    "\n",
    "a = []\n",
    "b = [1, 2, 3]\n",
    "x = bool(a)\n",
    "print(x)\n",
    "\n",
    "y = bool(b)\n",
    "print(y)\n",
    "\n",
    "print(3>=2)\n",
    "print(1>2)\n",
    "\n",
    "print('text' == 'text')\n",
    "print('text' == 'text 2')\n"
   ]
  },
  {
   "cell_type": "markdown",
   "metadata": {},
   "source": [
    "# Строки, тип данных str"
   ]
  },
  {
   "cell_type": "markdown",
   "metadata": {},
   "source": [
    "# "
   ]
  },
  {
   "cell_type": "markdown",
   "metadata": {},
   "source": [
    "1. Экранирующие последовательности: \\ перед КОВЫЧКАМИ, \\ перед \\\n",
    "2. Спец символ r для пути 'C:\\Users\\..\\..\\Py_lesson'\n",
    "3. Спецсимвол \\n для переноса строки: 'some text \\nand new string'\n",
    "4. Индекс начинает свой отсчет от 0\n",
    "5. Обращение к элементу по индексу: text[0] где 0 -индекс элемента\n",
    "6. Срез это выборка элементов из последовательности, c_ и по_индекс\n",
    "7. Конструкция среза:   \n",
    "    - от индекса 8 до конца: text[8:]  \n",
    "    - от начала до индекса 8: text[:8]\n",
    "    - от индекса 6 до конца индекса 8: text[6:8]      \n",
    "    - с шагом в 1: text[::1]"
   ]
  },
  {
   "cell_type": "code",
   "execution_count": 8,
   "metadata": {},
   "outputs": [
    {
     "name": "stdout",
     "output_type": "stream",
     "text": [
      "Some 'long', and 'awesome' text\n",
      "C:\\Users\\..\\..\\Py_lesson\n",
      "C:\\Users\\..\\..\\Py_lesson\n",
      "some long text \n",
      "and new string \n",
      "and new string\n",
      "hello world\n",
      "h\n",
      "he\n",
      "de\n",
      "worlde\n",
      "world hello \n",
      "wo\n",
      "hello world\n",
      "hlowrd\n"
     ]
    }
   ],
   "source": [
    "x = 'Some \\'long\\', and \\'awesome\\' text'\n",
    "print(x)\n",
    "\n",
    "y = 'C:\\\\Users\\\\..\\\\..\\\\Py_lesson'\n",
    "z = r'C:\\Users\\..\\..\\Py_lesson'\n",
    "print(y)\n",
    "print(z)\n",
    "\n",
    "x = 'some long text \\nand new string \\nand new string'\n",
    "print(x)\n",
    "\n",
    "text = str('hello world')\n",
    "print(text)\n",
    "print(text[0])\n",
    "print(text[0]+text[1])\n",
    "print(text[-1]+text[1])\n",
    "print(text[6:]+text[1])\n",
    "print(text[6:]+' '+text[:6])\n",
    "print(text[6:8])\n",
    "print(text[::1])\n",
    "print(text[::2])"
   ]
  },
  {
   "cell_type": "markdown",
   "metadata": {},
   "source": [
    "# Функции строк"
   ]
  },
  {
   "cell_type": "markdown",
   "metadata": {},
   "source": [
    "1. Функция len() выдает количество элементов в последовательности\n",
    "2. С помощью len() можно делать обращение по индексу и срезы, так как результат len тип int\n",
    "3. Функция count() выдает количество заданных символов в строке\n",
    "4. Функция find() выдает индекс первого найденного элемента, или фразы в строке: x.find('o')\n",
    "5. find() принимает диапазон поиска в качестве доп параметра: x.find('o', 3, 7)\n",
    "6. Функция capitalize() преобразует строку так, что первый символ становится в верхний регистр, а\n",
    "все остальные в нижний принудительно\n",
    "7. upper() преобразует все символы в строке в верхний регистр\n",
    "8. lower() преобразует все символы в строке в нижний регистр\n",
    "9. isupper() islower() функции проверок, на верхний и нижний регистр соответственно\n",
    "10. isalnum() проверочная функция, состоит ли строка только из цифр и букв\n",
    "11. isalpha() проверочная функция, остоит ли строка только из букв\n",
    "12. startswith() проверка начинается ли строка с определеннных символов\n",
    "13. endswith() проверка заканчивается ли строка с определнных символов\n",
    "14. split() функция сепаратор, разделяет строку по заданному символу\n"
   ]
  },
  {
   "cell_type": "code",
   "execution_count": 3,
   "metadata": {},
   "outputs": [
    {
     "name": "stdout",
     "output_type": "stream",
     "text": [
      "26\n",
      "T\n",
      "TEXT\n",
      "3\n",
      "10\n",
      "1\n",
      "6\n",
      "18\n",
      "10\n",
      "22\n",
      "-1\n",
      "Some long and awesome text\n",
      "SOME LONG AND AWESOME TEXT\n",
      "some long and awesome text\n",
      "Old text: some long and awesome TEXT\n",
      "True\n",
      "True\n",
      "False\n",
      "False\n"
     ]
    }
   ],
   "source": [
    "x = 'some long and awesome TEXT'\n",
    "print(len(x))\n",
    "print(x[len(x)-1])\n",
    "print(x[len(x)-4:len(x)])\n",
    "\n",
    "print(x.count('o'))\n",
    "\n",
    "print(x.find('a'))\n",
    "print(x.find('o'))\n",
    "print(x.find('o', 3, 7))\n",
    "print(x.find('o', 7))\n",
    "print(x.find('and'))\n",
    "print(x.find('TEXT'))\n",
    "print(x.find('abc'))\n",
    "\n",
    "print(x.capitalize())\n",
    "print(x.upper())\n",
    "print(x.lower())\n",
    "print('Old text: '+x)\n",
    "upper_cased = x.upper()\n",
    "lower_cased = x.lower()\n",
    "print(upper_cased.isupper())\n",
    "print(lower_cased.islower())\n",
    "print(x.isupper())\n",
    "print(x.islower())"
   ]
  },
  {
   "cell_type": "code",
   "execution_count": 1,
   "metadata": {},
   "outputs": [
    {
     "name": "stdout",
     "output_type": "stream",
     "text": [
      "True\n",
      "False\n",
      "False\n",
      "True\n",
      "True\n",
      "True\n",
      "<class 'list'>\n",
      "['he', '', 'o']\n",
      "['4', '8', '15', '16', '23', '42']\n",
      "16\n"
     ]
    }
   ],
   "source": [
    "print('xxx777'.isalnum())\n",
    "print('xxx777!'.isalnum())\n",
    "print('xxx777'.isalpha())\n",
    "print('xxx'.isalpha())\n",
    "\n",
    "x = str('hello')\n",
    "print(x.startswith('he'))\n",
    "print(x.endswith('lo'))\n",
    "split = x.split('l')\n",
    "print(type(split))\n",
    "print(split)\n",
    "some_data = '4;8;15;16;23;42'\n",
    "separated_data = some_data.split(';')\n",
    "print(separated_data)\n",
    "print(separated_data[3])"
   ]
  },
  {
   "cell_type": "markdown",
   "metadata": {},
   "source": [
    "# КОЛЛЕКЦИИ И ЦИКЛЫ"
   ]
  },
  {
   "cell_type": "markdown",
   "metadata": {},
   "source": [
    "# Списки. Тип list"
   ]
  },
  {
   "cell_type": "markdown",
   "metadata": {},
   "source": [
    "1. Сиинтаксис типа list: spisok = [element, element, ...]\n",
    "2. list поддерживает обращение по индексу, пример: spisok[0]\n",
    "3. list поддерживает срезы, пример: spisok[0:5]\n",
    "4. Функция append добавляет элемент к списку, в конец\n",
    "5. Функция insert вставляет элемнт в список, по индексу который передается вторым параметром, пример: spisok.insert[7, element]\n",
    "6. Функция index возвращает индекс заданного элемента в списке\n",
    "7. Функция pop удаляет последний в списке, а при использовании индекса удаляет элемент по индексу\n",
    "8. Функция clear удаляет все элементы списка, возвращая пустой список\n",
    "9. Функция sort сортирует список, поддерживает сортировку пл  ключу\n",
    "10. Функция revers \"переворачивает\" список, от последнего к первому"
   ]
  },
  {
   "cell_type": "code",
   "execution_count": 2,
   "metadata": {},
   "outputs": [
    {
     "name": "stdout",
     "output_type": "stream",
     "text": [
      "4\n",
      "1\n",
      "4\n",
      "[3, 4]\n",
      "['anna', 'alex', 'max', 'john', 'nicolas', 'vlad']\n",
      "['artur', 'alex', 'max']\n",
      "['artur', 'alex', 'max', 'anna']\n",
      "['artur', 'john', 'alex', 'max', 'anna']\n",
      "3\n",
      "anna\n",
      "['artur', 'john', 'alex', 'max']\n",
      "['john', 'alex', 'max']\n",
      "[]\n",
      "['33', '22', '11', '44']\n",
      "['11', '22', '33', '44']\n",
      "['44', '33', '22', '11']\n",
      "['abcde', 'bcd', 'da', 'cde', 'ser', 'q']\n",
      "['abcde', 'bcd', 'cde', 'da', 'q', 'ser']\n",
      "['q', 'da', 'bcd', 'cde', 'ser', 'abcde']\n",
      "['abcde', 'ser', 'cde', 'bcd', 'da', 'q']\n"
     ]
    }
   ],
   "source": [
    "new_list = [1,2,3,4]\n",
    "mix_list = [12, 3.14, 'text']\n",
    "print(len(new_list))\n",
    "print(new_list[0])\n",
    "print(new_list[-1])\n",
    "print(new_list[2:])\n",
    "\n",
    "list_1 = ['anna', 'alex', 'max']\n",
    "list_2 = ['john', 'nicolas', 'vlad']\n",
    "print(list_1 + list_2)\n",
    "list_1[0] = 'artur'\n",
    "print(list_1)\n",
    "list_1.append('anna')\n",
    "print(list_1)\n",
    "list_1.insert(1, 'john')\n",
    "print(list_1)\n",
    "print(list_1.index('max'))\n",
    "list_1.index('max', 0, 10)\n",
    "pop_del = list_1.pop()\n",
    "print(pop_del)\n",
    "print(list_1)\n",
    "list_1.pop(0)\n",
    "print(list_1)\n",
    "list_1.clear()\n",
    "print(list_1)\n",
    "\n",
    "list_3 = ['33', '22', '11', '44']\n",
    "print(list_3)\n",
    "list_3.sort()\n",
    "print(list_3)\n",
    "list_3.sort(reverse=True)\n",
    "print(list_3)\n",
    "\n",
    "list_4 = ['abcde', 'bcd', 'da', 'cde', 'ser', 'q']\n",
    "print(list_4)\n",
    "list_4.sort()\n",
    "print(list_4)\n",
    "list_4.sort(key=len)\n",
    "print(list_4)\n",
    "list_4.reverse()\n",
    "print(list_4)\n"
   ]
  },
  {
   "cell_type": "markdown",
   "metadata": {},
   "source": [
    "# Словарь. Тип dict"
   ]
  },
  {
   "cell_type": "markdown",
   "metadata": {},
   "source": [
    "1. Словарь, тип dict тип данных существующий в виде пар ключ - значение.\n",
    "2. Синтаксис типа dict: dict = {'ключ': Значение, 'ключ': Значение,}\n",
    "3. Все ключи уникальны, повторений быть не может.\n",
    "4. Обновление и добавление пар с помощью присвоения, пример:\n",
    "    dict[key] = new_data\n",
    "5. Функция get выдает значение по ключу.\n",
    "6. Функция setdefault добавляет пару, где ключ берется из атрибута функции, а занчение выставляется None.\n",
    "7. Функция pop удаляет пару из словаря по ключу. \n",
    "8. Функция keys выдает все ключи словаря.\n",
    "9. Функция values выдает все значения словаря.\n",
    "10. Конструкция проверки, проверяет наличие или отсутствие ключа в словаре: keys in dict или keys not in dict"
   ]
  },
  {
   "cell_type": "code",
   "execution_count": 12,
   "metadata": {},
   "outputs": [
    {
     "name": "stdout",
     "output_type": "stream",
     "text": [
      "{'alex': 258, 'max': 227, 'anna': 278}\n",
      "278\n",
      "258\n",
      "{'alex': 258, 'max': 227, 'anna': 278, 'andrey': 268}\n",
      "{'alex': 258, 'max': 227, 'anna': 278, 'andrey': 177}\n",
      "{'alex': 258, 'max': 227, 'anna': 278, 'andrey': 177, 'oleg': None}\n",
      "{'alex': 258, 'max': 227, 'anna': 278, 'andrey': 177}\n",
      "dict_keys(['alex', 'max', 'anna', 'andrey'])\n",
      "<class 'dict_keys'>\n",
      "['alex', 'max', 'anna', 'andrey']\n",
      "<class 'list'>\n",
      "dict_values([258, 227, 278, 177])\n",
      "<class 'dict_values'>\n",
      "True\n",
      "True\n"
     ]
    }
   ],
   "source": [
    "from turtle import st\n",
    "\n",
    "\n",
    "students = {'alex': 258, 'max': 227, 'anna': 278}\n",
    "print(students)\n",
    "print(students['anna'])\n",
    "print(students.get('alex'))\n",
    "students['andrey'] = 268\n",
    "print(students)\n",
    "students['andrey'] = 177\n",
    "print(students)\n",
    "students.setdefault('oleg')\n",
    "print(students)\n",
    "students.pop('oleg')\n",
    "print(students)\n",
    "print(students.keys())\n",
    "print(type(students.keys()))\n",
    "key_list = list(students.keys())\n",
    "print(key_list)\n",
    "print(type(key_list))\n",
    "print(students.values())\n",
    "print(type(students.values()))\n",
    "print('anna' in students)\n",
    "print('peter' not in students)"
   ]
  },
  {
   "cell_type": "markdown",
   "metadata": {},
   "source": [
    "# Кортежи, тип tuple."
   ]
  },
  {
   "cell_type": "markdown",
   "metadata": {},
   "source": [
    "1. Тип tuple неизменяемый тип данных в Python, грубо говоря, список и элементы котрого нельзя изменить в ходе работы программы.\n",
    "2. Синтаксис типа tuple - круглые скобки, пример tuple = ('elem', 'elem')\n",
    "3. tuple поддерживает срезы, чтеня по индексу.\n",
    "4. Так как в Python динамически типизированный язык, можно менять тип кортеж на лист и обратно."
   ]
  },
  {
   "cell_type": "code",
   "execution_count": 4,
   "metadata": {},
   "outputs": [
    {
     "name": "stdout",
     "output_type": "stream",
     "text": [
      "('alex', 22, True)\n",
      "<class 'tuple'>\n",
      "alex\n",
      "('alex', 22)\n",
      "['alex', 22, True]\n",
      "<class 'list'>\n",
      "('alex', 22, True)\n",
      "<class 'tuple'>\n"
     ]
    }
   ],
   "source": [
    "a = ('alex', 22, True)\n",
    "print(a)\n",
    "print(type(a))\n",
    "print(a[0])\n",
    "print(a[0:2])\n",
    "b = list(a)\n",
    "print(b)\n",
    "print(type(b))\n",
    "c = tuple(b)\n",
    "print(c)\n",
    "print(type(c))"
   ]
  },
  {
   "cell_type": "markdown",
   "metadata": {},
   "source": [
    "# Множества. Тип set."
   ]
  },
  {
   "cell_type": "markdown",
   "metadata": {},
   "source": [
    "1. set это последовательность уникальных объектовю\n",
    "2. Синтаксис типа set: s = {element, element, ...}\n",
    "3. Функция add добавляет элемент к множеству.\n",
    "4. Функция remove удаляет элемент по имени элемента.\n",
    "5. Функция clear удаляет все элементы из set, возвращая пустой set.\n",
    "6. Функция union объединяет два множества.\n",
    "7. Функция intersection - функция \"пересечения\", выдает элементы которые есть в первом и во втором множестве.\n",
    "8. Функция difference - функция \"вычитания\", выдает элементы которые есть в первом, исключая те которые есть во втором.\n",
    "9. Функция issubset - проверяет является ли первое множество подмножеством другого.\n",
    "10. Функция issuperset - проверяет является ли сет надмножеством другого, зеркальная проверка подмножества\n",
    "11. set НЕ поддерживает обращение по индексу."
   ]
  },
  {
   "cell_type": "code",
   "execution_count": 13,
   "metadata": {},
   "outputs": [
    {
     "name": "stdout",
     "output_type": "stream",
     "text": [
      "<class 'set'>\n",
      "{'john', 'georg', 'alex'}\n",
      "3\n",
      "{'john', 'georg', 'alex', 'maxim'}\n",
      "True\n",
      "{'john', 'georg', 'maxim'}\n",
      "set()\n",
      "{'john', 'georg', 'anna', 'tom', 'anton', 'alex'}\n",
      "{'alex'}\n",
      "{'john', 'georg'}\n",
      "{'john', 'georg'}\n",
      "True\n",
      "True\n"
     ]
    }
   ],
   "source": [
    "first_set = {'alex', 'john', 'georg', 'alex'}\n",
    "print(type(first_set))\n",
    "print(first_set)\n",
    "print(len(first_set))\n",
    "first_set.add('maxim')\n",
    "print(first_set)\n",
    "print('maxim' in first_set)\n",
    "first_set.remove('alex')\n",
    "print(first_set)\n",
    "first_set.clear()\n",
    "print(first_set)\n",
    "\n",
    "first_set = {'alex', 'john', 'georg', 'alex'}\n",
    "second_set = {'anton', 'tom', 'anna', 'alex'}\n",
    "third_set = first_set.union(second_set)\n",
    "print(third_set)\n",
    "fourth_set = first_set.intersection(second_set)\n",
    "print(fourth_set)\n",
    "fifth_set = first_set.difference(second_set)\n",
    "print(fifth_set)\n",
    "print(fifth_set - second_set)\n",
    "\n",
    "set1 = {1, 2, 3}\n",
    "set2 = {1, 2, 3, 4, 5}\n",
    "print(set1.issubset(set2))\n",
    "print(set2.issuperset(set1))\n",
    "\n",
    "\n"
   ]
  },
  {
   "cell_type": "markdown",
   "metadata": {},
   "source": [
    "# if elif else"
   ]
  },
  {
   "cell_type": "markdown",
   "metadata": {},
   "source": [
    "1. if(если) что-то == чему-то:\n",
    "    то делать действие 1\n",
    "2. elif(или если) что-то другое == чему-то:\n",
    "    то делать действие 2\n",
    "3. else(в остальных случаях):\n",
    "    то делать другое действие"
   ]
  },
  {
   "cell_type": "code",
   "execution_count": null,
   "metadata": {},
   "outputs": [],
   "source": [
    "print('Введите число от 1 до 10')\n",
    "x = int(input())\n",
    "if x < 4:\n",
    "    print('число меньше 4-х')\n",
    "elif x == 5:\n",
    "    print('Число равно 5')\n",
    "elif 10 > x > 6:\n",
    "    if 8 > x > 6:\n",
    "        print('Число 7')\n",
    "    elif 9 > x > 7:\n",
    "        print('Число 8')\n",
    "    else:\n",
    "        print('Число 9')\n",
    "else:\n",
    "    print('Ведите корректное число')"
   ]
  },
  {
   "cell_type": "markdown",
   "metadata": {},
   "source": [
    "# Цикл for"
   ]
  },
  {
   "cell_type": "markdown",
   "metadata": {},
   "source": [
    "1. Циклы позволяют исполнять циклично поторяющиеся операции\n",
    "2. Цикл for основной цикл для работы с коллекциями\n",
    "3. Конструкция цикла:\n",
    "   1. for x in iterable:\n",
    "       2. действие с x\n",
    "(где x лоакальная переменная равная элементу последовательности iterable; Действие с x в рамках цикла for происходит с каждым элементом последовательности)\n",
    "4. Функция range() создает интерабельный диапазон\n",
    "5. Используем функции типов итерабельных данных для манипуляций с объектами этих типов\n",
    "Пример: функция append для создания списка.\n",
    "6. Функция enumerate() добавляет счетчик к каждому объекту, используем для построения индекса\n",
    "7. Вместо переемнной можно использовать _ когда перемнная не используется в дальнейших вычислениях\n",
    "8. Используем тьюпл-анпакинг для распаковки tuple на значения\n",
    "9. Для распаковки словаря, используем тьюпл-анпакинг, так как результат цикла for при прохождении словаря - tuple\n",
    "10. Для чтения словаря используем функцию items()\n",
    "11. Для чтения только значений словаря используем функцию values()"
   ]
  },
  {
   "cell_type": "code",
   "execution_count": null,
   "metadata": {},
   "outputs": [],
   "source": [
    "numbers = [1, 2, 3, 4, 5]\n",
    "print(numbers)\n",
    "for x in numbers:\n",
    "    print(x*x)\n",
    "\n",
    "numbers = range(1, 16)\n",
    "new_list = []\n",
    "for x in numbers:\n",
    "    new_list.append(x)\n",
    "print(new_list)\n",
    "\n",
    "for x in range(1, 16):\n",
    "    if x % 2 == 0:\n",
    "        print(f'{x} четное число')\n",
    "    else:\n",
    "        print(f'{x} нечетное число')\n",
    "\n",
    "numbers = [1, 2, 3, 4, 5]\n",
    "for x, item in enumerate(numbers):\n",
    "    numbers[x] += 10\n",
    "print(numbers)"
   ]
  },
  {
   "cell_type": "code",
   "execution_count": null,
   "metadata": {},
   "outputs": [],
   "source": [
    "name = 'Alex Jhonson'\n",
    "for x in name:\n",
    "    print(x)\n",
    "\n",
    "for _ in range(1, 3):\n",
    "    print('Ошибка!!')\n",
    "\n",
    "some_tuple = (11, 'Alex', 3.14)\n",
    "for x in some_tuple:\n",
    "    print(x)\n",
    "\n",
    "some_list = [('John', 22), ('Alex', 33), ('Artem', 44)]\n",
    "for (name, age) in some_list:\n",
    "    print(f'{name} is {age} years old')\n"
   ]
  },
  {
   "cell_type": "code",
   "execution_count": null,
   "metadata": {},
   "outputs": [],
   "source": [
    "some_dict = {'Alex': 111, 'Maxim': 222, 'Anna': 333}\n",
    "for x in some_dict:\n",
    "    print(x)\n",
    "for x in some_dict.items():\n",
    "    print(x)\n",
    "for x, y in some_dict.items():\n",
    "    print(f'Ключ {x} и Значение {y}')\n",
    "for value in some_dict.values():\n",
    "    print(value)\n"
   ]
  },
  {
   "cell_type": "markdown",
   "metadata": {},
   "source": [
    "# While + continue break pass"
   ]
  },
  {
   "cell_type": "markdown",
   "metadata": {},
   "source": [
    "1. while условно бесконечный цикл, пока условие равно True\n",
    "2. Конструкция while:э\n",
    "    1. while что-то(условие) == True:\n",
    "    2.  то делать действие бесконечно долго\n",
    "3. continue break pass работают и for, и while\n",
    "4. continue переход к следущему действию\n",
    "5. break остановка цикла\n",
    "6. pass ничего, никакого действия, заполнитель"
   ]
  },
  {
   "cell_type": "code",
   "execution_count": null,
   "metadata": {},
   "outputs": [],
   "source": [
    "import time\n",
    "\n",
    "\n",
    "x = 1\n",
    "while True:\n",
    "    x = x + x\n",
    "    print(x)\n",
    "    time.sleep(1)"
   ]
  },
  {
   "cell_type": "code",
   "execution_count": null,
   "metadata": {},
   "outputs": [],
   "source": [
    "x = 0\n",
    "while x < 6:\n",
    "    print(f'X равно {x}')\n",
    "    x += 1\n",
    "    time.sleep(0.5)\n",
    "else:\n",
    "    print('Завершено')\n",
    "\n",
    "    "
   ]
  },
  {
   "cell_type": "code",
   "execution_count": 8,
   "metadata": {},
   "outputs": [
    {
     "name": "stdout",
     "output_type": "stream",
     "text": [
      "16\n"
     ]
    }
   ],
   "source": [
    "vals = [1, 2, 3, 4, 5, 6, 7, 8, 9]\n",
    "summa = 0\n",
    "for x in vals:\n",
    "    if x % 2 == 0:\n",
    "        continue\n",
    "    else:\n",
    "        summa += x\n",
    "    if summa > 10:\n",
    "        break    \n",
    "print(summa)"
   ]
  },
  {
   "cell_type": "markdown",
   "metadata": {},
   "source": [
    "# ФУНКЦИИ"
   ]
  },
  {
   "cell_type": "markdown",
   "metadata": {},
   "source": [
    "# Функции в Python"
   ]
  },
  {
   "cell_type": "markdown",
   "metadata": {},
   "source": [
    "1. Конструкция def имя функции([список аргументов]):\n",
    "    1. оператор(действие)\n",
    "2. Функции принимают неименованные переменные позиционно, т.е.: a, b, c = 1, 2, 3 будет a = 1, b = 2, c = 3\n",
    "3. Можно использовать фактический(дефолтный) параметр в качестве замены при отсутсвии формального\n",
    "4. Можно передавать именованные параметры, без позиционирования\n",
    "5. В return пишем нужный нам результат функции\n",
    "6. Функцию с прописанным return можно передать в другую функцию, передается результат, а не сама функция\n",
    "7. Можно переопределять функции так же как и переменные, используя в конструкции if elif else или просто по ходу работы\n",
    "8. К функциям можно писать комментарий - документацию\n",
    "9. Читать документацию можно используя функцию help(), в help передаем имя функции, без ее вызова( help(func) )"
   ]
  },
  {
   "cell_type": "code",
   "execution_count": 14,
   "metadata": {},
   "outputs": [
    {
     "name": "stdout",
     "output_type": "stream",
     "text": [
      "Hello world\n",
      "Hello world\n",
      "314.15000000000003\n",
      "2827.3500000000004\n",
      "2827.3500000000004\n",
      "20\n"
     ]
    }
   ],
   "source": [
    "def printText():\n",
    "    print('Hello world')\n",
    "printText()\n",
    "printText()\n",
    "\n",
    "r = 10 \n",
    "s = 3.1415 * (r ** 2)\n",
    "print(s)\n",
    "def sqRing(p):\n",
    "    s = 3.1415 * (p ** 2)\n",
    "    print(s)\n",
    "sqRing(30)\n",
    "\n",
    "def sqRing(p):\n",
    "    s = 3.1415 * (p ** 2)\n",
    "    return s\n",
    "print(sqRing(30))\n",
    "\n"
   ]
  },
  {
   "cell_type": "code",
   "execution_count": 23,
   "metadata": {},
   "outputs": [
    {
     "name": "stdout",
     "output_type": "stream",
     "text": [
      "20\n",
      "(20, 25)\n",
      "<class 'tuple'>\n"
     ]
    }
   ],
   "source": [
    "def getSquare(w, h):\n",
    "     return 2 * (w + h)\n",
    "print(getSquare(5, 5))\n",
    "\n",
    "def getSquare2(w, h):\n",
    "     return 2 * (w + h), w * h\n",
    "print(getSquare2(5, 5))\n",
    "print(type(getSquare2(5, 5)))"
   ]
  },
  {
   "cell_type": "code",
   "execution_count": 20,
   "metadata": {},
   "outputs": [
    {
     "name": "stdout",
     "output_type": "stream",
     "text": [
      "Text!\n",
      "Text?\n",
      "message: Text!\n",
      "message: Text?\n",
      "message Text?\n",
      "message Text!\n"
     ]
    }
   ],
   "source": [
    "def printText(msq, end = '!'):\n",
    "    print(msq + end)\n",
    "printText('Text')\n",
    "printText('Text', '?')\n",
    "\n",
    "def printText2(msq, end = '!', sep = ': '):\n",
    "    print('message' + sep + msq + end)\n",
    "printText2('Text')\n",
    "printText2('Text', '?')\n",
    "printText2('Text', '?', ' ' )\n",
    "printText2('Text', sep = ' ')"
   ]
  },
  {
   "cell_type": "code",
   "execution_count": 24,
   "metadata": {},
   "outputs": [
    {
     "name": "stdout",
     "output_type": "stream",
     "text": [
      "60\n"
     ]
    }
   ],
   "source": [
    "a = True\n",
    "\n",
    "if a:\n",
    "    def sFunc(x, y, z):\n",
    "        return print(x + y + z)\n",
    "else:\n",
    "    def sFunc(a, b, c):\n",
    "        return print(a + b / c)\n",
    "sFunc(10, 20, 30)"
   ]
  },
  {
   "cell_type": "code",
   "execution_count": 26,
   "metadata": {},
   "outputs": [
    {
     "name": "stdout",
     "output_type": "stream",
     "text": [
      "Help on function funct in module __main__:\n",
      "\n",
      "funct(a, b, c)\n",
      "    :param a: коммент\n",
      "    :param b: переменная\n",
      "    :param c: переменная\n",
      "    :return: вывод\n",
      "\n"
     ]
    }
   ],
   "source": [
    "def funct(a, b, c):\n",
    "    '''\n",
    "    :param a: коммент\n",
    "    :param b: переменная\n",
    "    :param c: переменная\n",
    "    :return: вывод\n",
    "    '''\n",
    "    return a + b + c\n",
    "help(funct)"
   ]
  },
  {
   "cell_type": "markdown",
   "metadata": {},
   "source": [
    "# *args и **kwargs "
   ]
  },
  {
   "cell_type": "markdown",
   "metadata": {},
   "source": [
    "1. Спецсимвол * берет на себя все объекты не вошедшие в другие переменные при упаковке и отдает множество элементов при распаковке\n",
    "2. *args зарезервированный системой атрибут функции, который принимает в себя неограниченное кол-во неименованных параметров, упаковывая их в кортежи\n",
    "3. **kwargs зарезервированный системой атрибут функции, который принимает в себя неограниченное кол-во именованных параметров, упаковывая их в словарь"
   ]
  },
  {
   "cell_type": "code",
   "execution_count": 38,
   "metadata": {},
   "outputs": [
    {
     "name": "stdout",
     "output_type": "stream",
     "text": [
      "['string', 20, 3.14, 'Text']\n",
      "30\n",
      "4.14\n",
      "['H', 'e', 'l', 'l', 'o', ' ', 'w', 'o', 'r']\n",
      "l\n",
      "d\n",
      "[]\n",
      "1\n",
      "2\n",
      "[4, 5, 6, 7, 8, 9]\n"
     ]
    }
   ],
   "source": [
    "*a, b, c = 'string', 20, 3.14, 'Text', 30, 4.14\n",
    "print(a)\n",
    "print(b)\n",
    "print(c)\n",
    "\n",
    "*a, b, c = 'Hello world'\n",
    "print(a)\n",
    "print(b)\n",
    "print(c)\n",
    "\n",
    "*a, b, c = [1, 2]\n",
    "print(a)\n",
    "print(b)\n",
    "print(c)\n",
    "\n",
    "s = [4, 10]\n",
    "print(list(range(*s)))"
   ]
  },
  {
   "cell_type": "code",
   "execution_count": 40,
   "metadata": {},
   "outputs": [
    {
     "name": "stdout",
     "output_type": "stream",
     "text": [
      "Hello True 78 [3, 4, 5]\n"
     ]
    }
   ],
   "source": [
    "def func(a, b, c, d):\n",
    "    print(a, b, c, d)\n",
    "a = ('Hello', True, 78, [3, 4, 5])\n",
    "func(*a)"
   ]
  },
  {
   "cell_type": "code",
   "execution_count": 42,
   "metadata": {},
   "outputs": [
    {
     "name": "stdout",
     "output_type": "stream",
     "text": [
      "1999513.98\n",
      "0.06\n",
      "0.0\n"
     ]
    }
   ],
   "source": [
    "def func(*args):\n",
    "    print(sum(args) * 0.06)\n",
    "func(1, 333, 555, 22, 1, 33324321)\n",
    "func(1)\n",
    "func()"
   ]
  },
  {
   "cell_type": "code",
   "execution_count": 43,
   "metadata": {},
   "outputs": [
    {
     "name": "stdout",
     "output_type": "stream",
     "text": [
      "{'a': 1, 'b': 2, 'c': 3, 'd': 4}\n"
     ]
    }
   ],
   "source": [
    "def func(**kwargs):\n",
    "    print(kwargs)\n",
    "func(a = 1, b = 2, c = 3, d = 4)"
   ]
  },
  {
   "cell_type": "code",
   "execution_count": 44,
   "metadata": {},
   "outputs": [
    {
     "name": "stdout",
     "output_type": "stream",
     "text": [
      "(1, 2, 3, 4, 5, '100')\n",
      "{'a': 1, 'b': 2, 'c': 3, 'd': 4}\n"
     ]
    }
   ],
   "source": [
    "def func(*args, **kwargs):\n",
    "    print(args)\n",
    "    print(kwargs)\n",
    "func(1, 2, 3, 4, 5, '100', a = 1, b = 2, c = 3, d = 4)"
   ]
  },
  {
   "cell_type": "markdown",
   "metadata": {},
   "source": [
    "# map filter и lambda функции"
   ]
  },
  {
   "cell_type": "markdown",
   "metadata": {},
   "source": [
    "1. Функция map применяет другую функцию к каждому элементу последовательности\n",
    "    1. def map(func, iterable)\n",
    "        1. for i in iterable:\n",
    "            1. yield func(i)\n",
    "2. Функция filter применяет другую, функцию проверки с результатом типа bool к каждому элементу последовательности отфильтровывая значения с True\n",
    "3. lambda - анонимная функция без объявления, служит для скоращения записи простых функций (злоупотреблять не стоит)\n"
   ]
  },
  {
   "cell_type": "code",
   "execution_count": 46,
   "metadata": {},
   "outputs": [
    {
     "name": "stdout",
     "output_type": "stream",
     "text": [
      "<map object at 0x0000021B7A502B20>\n",
      "[4, 1, 25, 49, 9]\n"
     ]
    }
   ],
   "source": [
    "def sq(x):\n",
    "    return x ** 2\n",
    "a = [-2, -1, 5, 7, 3]\n",
    "b = map(sq, a)\n",
    "print(b)\n",
    "c = list(b)\n",
    "print(c)\n"
   ]
  },
  {
   "cell_type": "code",
   "execution_count": 48,
   "metadata": {},
   "outputs": [
    {
     "name": "stdout",
     "output_type": "stream",
     "text": [
      "['HELLO', 'ABC', 'GOOD']\n"
     ]
    }
   ],
   "source": [
    "a = ['hello', 'abc', 'good']\n",
    "b = list(map(str.upper, a))\n",
    "print(b)"
   ]
  },
  {
   "cell_type": "code",
   "execution_count": 58,
   "metadata": {},
   "outputs": [
    {
     "name": "stdout",
     "output_type": "stream",
     "text": [
      "<map object at 0x0000021B79E28220>\n",
      "[False, True, True, True, False, False]\n",
      "<filter object at 0x0000021B79E28400>\n",
      "[20, 18, 33]\n"
     ]
    }
   ],
   "source": [
    "age = [11, 20, 18, 33, 14, 12]\n",
    "def is_adalt2(age):\n",
    "    return age >= 18\n",
    "f = map(is_adalt2, age)\n",
    "print(f)\n",
    "print(list(f))\n",
    "\n",
    "f = filter(is_adalt2, age)\n",
    "print(f)\n",
    "print(list(f))"
   ]
  },
  {
   "cell_type": "code",
   "execution_count": 59,
   "metadata": {},
   "outputs": [
    {
     "name": "stdout",
     "output_type": "stream",
     "text": [
      "<map object at 0x0000021B7A002A30>\n",
      "[False, True, True, True, False, False]\n",
      "<filter object at 0x0000021B7A002EE0>\n",
      "[20, 18, 33]\n"
     ]
    }
   ],
   "source": [
    "age = [11, 20, 18, 33, 14, 12]\n",
    "is_adalt = lambda age: age >= 18\n",
    "f = map(is_adalt, age)\n",
    "print(f)\n",
    "print(list(f))\n",
    "\n",
    "f = filter(is_adalt, age)\n",
    "print(f)\n",
    "print(list(f))"
   ]
  }
 ],
 "metadata": {
  "kernelspec": {
   "display_name": "Python 3.9.12 ('venv': venv)",
   "language": "python",
   "name": "python3"
  },
  "language_info": {
   "codemirror_mode": {
    "name": "ipython",
    "version": 3
   },
   "file_extension": ".py",
   "mimetype": "text/x-python",
   "name": "python",
   "nbconvert_exporter": "python",
   "pygments_lexer": "ipython3",
   "version": "3.9.12"
  },
  "orig_nbformat": 4,
  "vscode": {
   "interpreter": {
    "hash": "675c24bced937e471462044ca6811a9a3e01e0e8cf91b47ac4d51ac759c5e822"
   }
  }
 },
 "nbformat": 4,
 "nbformat_minor": 2
}
