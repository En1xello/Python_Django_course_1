{
 "cells": [
  {
   "cell_type": "code",
   "execution_count": 150,
   "metadata": {},
   "outputs": [
    {
     "name": "stdout",
     "output_type": "stream",
     "text": [
      "60\n",
      "KXKXKXKK\n"
     ]
    },
    {
     "data": {
      "text/plain": [
       "str"
      ]
     },
     "execution_count": 150,
     "metadata": {},
     "output_type": "execute_result"
    }
   ],
   "source": [
    "n = int(input())\n",
    "bin_n = bin(n)\n",
    "bin_n = bin_n[2:]\n",
    "bin_n = [int(bin_n) for bin_n in str(bin_n)]\n",
    "for x, i in enumerate(bin_n):\n",
    "    if i == 1:\n",
    "        i = 'KX'\n",
    "        bin_n[x] = i\n",
    "    elif i == 0:\n",
    "        i = 'K'\n",
    "        bin_n[x] = i\n",
    "if bin_n[0] == 'KX':\n",
    "    bin_n.pop(0)\n",
    "count = 1\n",
    "bin_n = \"\".join(bin_n)\n",
    "for x, i in enumerate(bin_n):\n",
    "    if i == 'K':\n",
    "        count = count * 2\n",
    "    elif i == 'X':\n",
    "        count += 1\n",
    "print(count)\n",
    "print(bin_n)\n",
    "type(bin_n)"
   ]
  },
  {
   "cell_type": "code",
   "execution_count": 148,
   "metadata": {},
   "outputs": [
    {
     "name": "stdout",
     "output_type": "stream",
     "text": [
      "['K', 'KX', 'K', 'K', 'K']\n"
     ]
    },
    {
     "data": {
      "text/plain": [
       "list"
      ]
     },
     "execution_count": 148,
     "metadata": {},
     "output_type": "execute_result"
    }
   ],
   "source": [
    "n = int(input())\n",
    "bin_n = bin(n)\n",
    "bin_n = bin_n[2:]\n",
    "bin_n = [int(bin_n) for bin_n in str(bin_n)]\n",
    "for x, i in enumerate(bin_n):\n",
    "    if i == 1:\n",
    "        i = 'KX'\n",
    "        bin_n[x] = i\n",
    "    elif i == 0:\n",
    "        i = 'K'\n",
    "        bin_n[x] = i\n",
    "if bin_n[0] == 'KX':\n",
    "    bin_n.pop(0)\n",
    "print(bin_n)\n",
    "type(bin_n)"
   ]
  }
 ],
 "metadata": {
  "kernelspec": {
   "display_name": "Python 3.9.12 ('venv': venv)",
   "language": "python",
   "name": "python3"
  },
  "language_info": {
   "codemirror_mode": {
    "name": "ipython",
    "version": 3
   },
   "file_extension": ".py",
   "mimetype": "text/x-python",
   "name": "python",
   "nbconvert_exporter": "python",
   "pygments_lexer": "ipython3",
   "version": "3.9.12"
  },
  "orig_nbformat": 4,
  "vscode": {
   "interpreter": {
    "hash": "675c24bced937e471462044ca6811a9a3e01e0e8cf91b47ac4d51ac759c5e822"
   }
  }
 },
 "nbformat": 4,
 "nbformat_minor": 2
}
